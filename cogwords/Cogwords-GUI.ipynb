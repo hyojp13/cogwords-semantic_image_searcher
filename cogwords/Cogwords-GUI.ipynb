{
 "cells": [
  {
   "cell_type": "code",
   "execution_count": 1,
   "id": "319f7c32",
   "metadata": {},
   "outputs": [
    {
     "name": "stderr",
     "output_type": "stream",
     "text": [
      "/opt/anaconda3/envs/BWSI-week3/lib/python3.8/site-packages/gensim/similarities/__init__.py:15: UserWarning: The gensim.similarities.levenshtein submodule is disabled, because the optional Levenshtein package <https://pypi.org/project/python-Levenshtein/> is unavailable. Install Levenhstein (e.g. `pip install python-Levenshtein`) to suppress this warning.\n",
      "  warnings.warn(msg)\n"
     ]
    }
   ],
   "source": [
    "import pickle\n",
    "import PySimpleGUI as sg\n",
    "import cogwords as cw"
   ]
  },
  {
   "cell_type": "code",
   "execution_count": null,
   "id": "869ea97e",
   "metadata": {},
   "outputs": [
    {
     "name": "stdout",
     "output_type": "stream",
     "text": [
      "* Error performing wm_overrideredirect *\n"
     ]
    }
   ],
   "source": [
    "db = None\n",
    "sg.theme('Python')\n",
    "\n",
    "layoutStart = [[sg.Button('Load Database')],\n",
    "          [sg.Button('Close')]]\n",
    "windowStart = sg.Window('Cog*Words:Load Database', layoutStart)\n",
    "\n",
    "while True:\n",
    "    event, values = windowStart.read()      \n",
    "    if event == sg.WIN_CLOSED or event == 'Close':\n",
    "        break\n",
    "    if event == 'Load Database':\n",
    "        layoutLoad = [[sg.Text('Select File'), sg.InputText('Coco-database.json'), sg.FileBrowse()],\n",
    "                      [sg.Text('Select File'), sg.InputText('glove.pkl'), sg.FileBrowse()],\n",
    "                      [sg.Text('Select File'), sg.InputText('weights.pkl'), sg.FileBrowse()],\n",
    "                      [sg.Button('OK'), sg.Button('Cancel')]]\n",
    "        windowLoad = sg.Window('Cog*Words: Load Database', layoutLoad)\n",
    "        \n",
    "        while True:\n",
    "            event, values = windowLoad.read()\n",
    "            if event == sg.WIN_CLOSED or event == 'Cancel':\n",
    "                break\n",
    "            if event == 'OK':\n",
    "                db = cw.database(values[0])\n",
    "                db.load_data(values[2], values[1])\n",
    "                break\n",
    "        windowLoad.close()\n",
    "        break\n",
    "windowStart.close()\n",
    "if event != sg.WIN_CLOSED and event != 'Close':\n",
    "    layoutHome = [[sg.InputText('Caption'), sg.InputText(\"Number of Images\")],\n",
    "                  [sg.Button('Search for Images'), sg.Button('Close')]]\n",
    "    windowHome = sg.Window('Cog*Words: Image Search', layoutHome)\n",
    "\n",
    "    while True:\n",
    "        event, values = windowHome.read()\n",
    "        if event == sg.WIN_CLOSED or event == 'Close':\n",
    "            break\n",
    "        if event == 'Search for Images':\n",
    "            images = cw.find_images(values[0], int(values[1]))\n",
    "            layoutDisplay = [[sg.Column([[sg.Image(f\"./pics/{str(id)}.png\", size=(320,240))] for id in images], scrollable=True)], \n",
    "                             [sg.Button('Close')]]\n",
    "            windowDisplay = sg.Window('Cog*Words: Images', layoutDisplay)\n",
    "            while True:\n",
    "                event, values = windowDisplay.read()\n",
    "                if event == sg.WIN_CLOSED or event == 'Close':\n",
    "                    cw.delete_imgs()\n",
    "                    break\n",
    "            windowDisplay.close()\n",
    "    windowHome.close()"
   ]
  },
  {
   "cell_type": "code",
   "execution_count": null,
   "id": "8942d587",
   "metadata": {},
   "outputs": [],
   "source": []
  }
 ],
 "metadata": {
  "kernelspec": {
   "display_name": "Python 3",
   "language": "python",
   "name": "python3"
  },
  "language_info": {
   "codemirror_mode": {
    "name": "ipython",
    "version": 3
   },
   "file_extension": ".py",
   "mimetype": "text/x-python",
   "name": "python",
   "nbconvert_exporter": "python",
   "pygments_lexer": "ipython3",
   "version": "3.8.10"
  }
 },
 "nbformat": 4,
 "nbformat_minor": 5
}
