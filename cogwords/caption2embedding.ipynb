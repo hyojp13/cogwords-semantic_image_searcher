{
 "cells": [
  {
   "cell_type": "code",
   "execution_count": 1,
   "id": "471ed7ae",
   "metadata": {},
   "outputs": [],
   "source": [
    "from pathlib import Path\n",
    "import json\n",
    "\n",
    "# load COCO metadata\n",
    "filename = r\"C:\\BWSI\\Week3\\captions_train2014.json\"\n",
    "with Path(filename).open() as f:\n",
    "    coco_data = json.load(f)"
   ]
  },
  {
   "cell_type": "code",
   "execution_count": 2,
   "id": "71270f04",
   "metadata": {},
   "outputs": [
    {
     "name": "stderr",
     "output_type": "stream",
     "text": [
      "C:\\Users\\Hello\\anaconda3\\envs\\week3\\lib\\site-packages\\gensim\\similarities\\__init__.py:15: UserWarning: The gensim.similarities.levenshtein submodule is disabled, because the optional Levenshtein package <https://pypi.org/project/python-Levenshtein/> is unavailable. Install Levenhstein (e.g. `pip install python-Levenshtein`) to suppress this warning.\n",
      "  warnings.warn(msg)\n"
     ]
    }
   ],
   "source": [
    "from gensim.models import KeyedVectors\n",
    "filename = r\"C:\\BWSI\\Week3\\glove.6B.200d.txt.w2v\"\n",
    "glove = KeyedVectors.load_word2vec_format(filename, binary=False)"
   ]
  },
  {
   "cell_type": "code",
   "execution_count": 3,
   "id": "1404c617",
   "metadata": {},
   "outputs": [],
   "source": [
    "import re, string\n",
    "\n",
    "punc_regex = re.compile('[{}]'.format(re.escape(string.punctuation)))\n",
    "\n",
    "def strip_punc(corpus):\n",
    "    return punc_regex.sub('', corpus)"
   ]
  },
  {
   "cell_type": "code",
   "execution_count": 27,
   "id": "13a8a3e1",
   "metadata": {},
   "outputs": [],
   "source": [
    "from collections import Counter\n",
    "import numpy as np\n",
    "import mygrad as mg\n",
    "\n",
    "embeddings = {}\n",
    "word_count = Counter()\n",
    "\n",
    "for caption_info in coco_data[\"annotations\"]:\n",
    "    caption = caption_info[\"caption\"]\n",
    "    caption = strip_punc(caption).lower().split()\n",
    "    word_count.update(Counter(set(caption)))\n",
    "\n",
    "for caption_info in coco_data[\"annotations\"]:\n",
    "    caption = caption_info[\"caption\"]\n",
    "    caption_id = caption_info[\"id\"]\n",
    "    caption = strip_punc(caption).lower().split()\n",
    "    w_caption = np.zeros(200)\n",
    "    for word in caption:\n",
    "        idf = np.log10(len(coco_data[\"annotations\"]) / word_count[word])\n",
    "        if word not in glove:\n",
    "            w_word = np.zeros(200)\n",
    "        else:\n",
    "            w_word = glove[word]\n",
    "        w_caption += idf * w_word\n",
    "    w_caption = w_caption / mg.sqrt((w_caption ** 2).sum(keepdims=True))\n",
    "    embeddings[caption_id] = w_caption.data"
   ]
  },
  {
   "cell_type": "code",
   "execution_count": 28,
   "id": "d9da14f7",
   "metadata": {},
   "outputs": [],
   "source": [
    "import pickle\n",
    "with open(\"./embedding.pkl\", mode=\"wb\") as emb:\n",
    "            pickle.dump(embeddings, emb)"
   ]
  },
  {
   "cell_type": "code",
   "execution_count": 26,
   "id": "78b3bf42",
   "metadata": {},
   "outputs": [
    {
     "data": {
      "text/plain": [
       "Tensor([ 0.07061214, -0.02274254, -0.00940832, -0.04032666, -0.03778504,\n",
       "        -0.00521474, -0.04675333,  0.03444963,  0.02304072, -0.02254693,\n",
       "         0.01115278,  0.04039144,  0.01566701,  0.02873464,  0.06777503,\n",
       "         0.03655903, -0.04502166,  0.04222868,  0.06746073, -0.05405859,\n",
       "         0.03160565,  0.49798158,  0.08423478, -0.05645183,  0.06801857,\n",
       "        -0.14707932, -0.01028187, -0.07605441, -0.07318673, -0.05556216,\n",
       "         0.02297116, -0.02974771,  0.06205539,  0.03704237, -0.03858265,\n",
       "        -0.0183256 , -0.04962339, -0.07829404,  0.07678513,  0.01260141,\n",
       "         0.01075453,  0.06749363, -0.00623134,  0.06552903, -0.02075985,\n",
       "        -0.01964161,  0.14423961, -0.04593186, -0.00131347,  0.07078433,\n",
       "         0.01679406,  0.06363841, -0.0230912 ,  0.08268034,  0.01778664,\n",
       "        -0.01112581, -0.01539579, -0.06673906, -0.08046044, -0.01877393,\n",
       "         0.005516  ,  0.03242495, -0.06550016,  0.0571154 , -0.03657656,\n",
       "         0.05755676, -0.02064952, -0.05495304, -0.00078629, -0.05866394,\n",
       "         0.10014599, -0.02797203, -0.04314916,  0.0291264 , -0.05516198,\n",
       "        -0.00797034, -0.1139975 , -0.09418847, -0.07856473, -0.0180107 ,\n",
       "        -0.01649904, -0.05417264, -0.01754106,  0.06027613,  0.13241455,\n",
       "        -0.00796594,  0.12390072, -0.06980537,  0.12579489, -0.19905038,\n",
       "         0.00149774,  0.01036997,  0.01958021,  0.01714805, -0.01370455,\n",
       "         0.00138472,  0.04715524, -0.0267098 , -0.07967623,  0.05670698,\n",
       "         0.05677124, -0.03910695, -0.01499234,  0.01531284,  0.05661622,\n",
       "        -0.03836192,  0.02183072,  0.20086502, -0.05762524,  0.04741119,\n",
       "        -0.02285038, -0.04813252,  0.02322657,  0.02108136, -0.05890768,\n",
       "        -0.04324944,  0.076429  ,  0.02894655, -0.05058524, -0.01685672,\n",
       "         0.07082385,  0.04476399,  0.04825117, -0.02736553,  0.00470138,\n",
       "        -0.15714739,  0.07964221,  0.03203057,  0.07222462, -0.01433841,\n",
       "         0.07491538,  0.00956063,  0.05258132, -0.1512121 , -0.01613061,\n",
       "         0.00240515,  0.00415333, -0.0084056 , -0.01775462, -0.03848843,\n",
       "         0.0561331 , -0.02880432,  0.07049616,  0.01120092,  0.22053709,\n",
       "         0.09974126, -0.01220534, -0.01605374,  0.01820368, -0.02122691,\n",
       "         0.02380499, -0.02307396,  0.06749591, -0.05763738,  0.0549016 ,\n",
       "        -0.08663332, -0.07067514,  0.02787291,  0.02911703, -0.03913857,\n",
       "         0.03771986,  0.03372729, -0.00264036,  0.0498387 ,  0.01462482,\n",
       "        -0.01580716, -0.01998619,  0.02818731, -0.14279328,  0.05120087,\n",
       "        -0.06277991, -0.01690062,  0.00833087,  0.10717661, -0.01086863,\n",
       "        -0.02272645, -0.0934496 , -0.05806227, -0.00265982,  0.06422342,\n",
       "         0.21839347, -0.07412521, -0.07046547, -0.00738326,  0.01526242,\n",
       "         0.03378379, -0.04056407,  0.0046157 ,  0.03907179,  0.06489722,\n",
       "         0.01456817,  0.00546264, -0.046287  , -0.06654424,  0.09459667,\n",
       "         0.02436775, -0.04036422,  0.00322762, -0.05764424,  0.01451962])"
      ]
     },
     "execution_count": 26,
     "metadata": {},
     "output_type": "execute_result"
    }
   ],
   "source": [
    "embeddings[48]"
   ]
  },
  {
   "cell_type": "code",
   "execution_count": 29,
   "id": "b98bda64",
   "metadata": {},
   "outputs": [],
   "source": [
    "def create_embeddings(coco_data, glove):\n",
    "    embeddings = {}\n",
    "    word_count = Counter()\n",
    "\n",
    "    for caption_info in coco_data[\"annotations\"]:\n",
    "        caption = caption_info[\"caption\"]\n",
    "        caption = strip_punc(caption).lower().split()\n",
    "        word_count.update(Counter(set(caption)))\n",
    "\n",
    "    for caption_info in coco_data[\"annotations\"]:\n",
    "        caption = caption_info[\"caption\"]\n",
    "        caption_id = caption_info[\"id\"]\n",
    "        caption = strip_punc(caption).lower().split()\n",
    "        w_caption = np.zeros(200)\n",
    "        for word in caption:\n",
    "            idf = np.log10(len(coco_data[\"annotations\"]) / word_count[word])\n",
    "            if word not in glove:\n",
    "                w_word = np.zeros(200)\n",
    "            else:\n",
    "                w_word = glove[word]\n",
    "            w_caption += idf * w_word\n",
    "        w_caption = w_caption / mg.sqrt((w_caption ** 2).sum(keepdims=True))\n",
    "        embeddings[caption_id] = w_caption.data\n",
    "    return embeddings"
   ]
  },
  {
   "cell_type": "code",
   "execution_count": 30,
   "id": "1a66d49f",
   "metadata": {},
   "outputs": [],
   "source": [
    "def create_embedding(query, coco_data, glove):\n",
    "    \n",
    "    query = strip_punc(query).lower().split()\n",
    "    # word_count.update(Counter(set(caption)))\n",
    "    word_count = Counter()\n",
    "\n",
    "    for caption_info in coco_data[\"annotations\"]:\n",
    "        caption = caption_info[\"caption\"]\n",
    "        caption = strip_punc(caption).lower().split()\n",
    "        word_count.update(Counter(set(caption)))\n",
    "        \n",
    "    w_query = np.zeros(200)\n",
    "    for word in query:\n",
    "        idf = np.log10(len(coco_data[\"annotations\"]) / word_count[word])\n",
    "        if word not in glove:\n",
    "            w_word = np.zeros(200)\n",
    "        else:\n",
    "            w_word = glove[word]\n",
    "        w_query += idf * w_word\n",
    "    w_query = w_query / mg.sqrt((w_query ** 2).sum(keepdims=True))\n",
    "    embedding = w_query.data\n",
    "    return w_query"
   ]
  },
  {
   "cell_type": "code",
   "execution_count": null,
   "id": "c47e941a",
   "metadata": {},
   "outputs": [],
   "source": []
  }
 ],
 "metadata": {
  "kernelspec": {
   "display_name": "Python 3",
   "language": "python",
   "name": "python3"
  },
  "language_info": {
   "codemirror_mode": {
    "name": "ipython",
    "version": 3
   },
   "file_extension": ".py",
   "mimetype": "text/x-python",
   "name": "python",
   "nbconvert_exporter": "python",
   "pygments_lexer": "ipython3",
   "version": "3.8.10"
  }
 },
 "nbformat": 4,
 "nbformat_minor": 5
}
